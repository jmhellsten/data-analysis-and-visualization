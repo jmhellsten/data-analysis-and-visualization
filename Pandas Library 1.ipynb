{
 "cells": [
  {
   "cell_type": "markdown",
   "id": "5994129c2646b52f",
   "metadata": {},
   "source": [
    "# Pandas Library 1\n",
    "\n",
    "These assignments are related to **Pandas** library."
   ]
  },
  {
   "cell_type": "code",
   "execution_count": 1,
   "id": "9f6da7b212d501aa",
   "metadata": {
    "ExecuteTime": {
     "end_time": "2025-02-05T17:33:35.908978Z",
     "start_time": "2025-02-05T17:33:35.901900Z"
    }
   },
   "outputs": [],
   "source": [
    "student_name = 'Juha-Matti Hellsten'\n",
    "student_id = 'AG7990'"
   ]
  },
  {
   "cell_type": "markdown",
   "id": "84cb3fa0",
   "metadata": {
    "lines_to_next_cell": 0
   },
   "source": [
    "## Reading Data from CSV file\n",
    "\n",
    "The primary goal of this assignment is to implement the `best_ranked_teams()` function.\n",
    "This function reads data from a CSV file containing information about the Premier League standings in the 2020-21 season.\n",
    "\n",
    "* Read the CSV file found in the filename specified in the test program variable `url_src`.\n",
    "* Read all columns in the given file with the Premier League Standings in the 2020-21 season.\n",
    "* Calculate and add a new column `Gd` to the `DataFrame`. _Goal difference_ is calculated as follows: **goals scored - goals conceded** (_GF - GA_)\n",
    "* Calculate and add a new column `Pts` to the `DataFrame`. Points are calculated as follows: **wins * 3 + draws**. (_W + 3*D_)\n",
    "* Only the first six lines are returned from the results (as defined in the test program variable `n_first`).\n"
   ]
  },
  {
   "cell_type": "code",
   "execution_count": 2,
   "id": "8c39f8b2",
   "metadata": {
    "ExecuteTime": {
     "end_time": "2025-02-05T17:33:36.790207Z",
     "start_time": "2025-02-05T17:33:35.992107Z"
    },
    "lines_to_next_cell": 0
   },
   "outputs": [
    {
     "name": "stdout",
     "output_type": "stream",
     "text": [
      " Pos                 Name  MP  W  D  L  GF  GA  Gd  Pts\n",
      "   1   Manchester City FC  38 27  5  6  83  32  51   86\n",
      "   2 Manchester United FC  38 21 11  6  73  44  29   74\n",
      "   3         Liverpool FC  38 20  9  9  68  42  26   69\n",
      "   4           Chelsea FC  38 19 10  9  58  36  22   67\n",
      "   5    Leicester City FC  38 20  6 12  68  50  18   66\n",
      "   6   West Ham United FC  38 19  8 11  62  47  15   65\n",
      "Result was OK\n"
     ]
    }
   ],
   "source": [
    "import numpy as np\n",
    "import pandas as pd\n",
    "\n",
    "\n",
    "correct_02_01 = \"\"\" Pos                 Name  MP  W  D  L  GF  GA  Gd  Pts\n",
    "   1   Manchester City FC  38 27  5  6  83  32  51   86\n",
    "   2 Manchester United FC  38 21 11  6  73  44  29   74\n",
    "   3         Liverpool FC  38 20  9  9  68  42  26   69\n",
    "   4           Chelsea FC  38 19 10  9  58  36  22   67\n",
    "   5    Leicester City FC  38 20  6 12  68  50  18   66\n",
    "   6   West Ham United FC  38 19  8 11  62  47  15   65\"\"\"\n",
    "\n",
    "def best_ranked_teams(url, n_first):\n",
    "   \n",
    "    df = pd.read_csv(url, sep='\\t')\n",
    "    df['Gd'] = df['GF'] - df['GA']\n",
    "    df['Pts'] = df['W'] * 3 + df['D']\n",
    "    \n",
    "    result = df.head(n_first)\n",
    "    \n",
    "    return result\n",
    "\n",
    "# The Test Program includes automatic checking of the answer.\n",
    "url_src = r\"C:\\Users\\jmhel\\OneDrive\\Työpöytä\\JAMK\\DA & Visualization\\premier_league_2020_21_table.txt\"\n",
    "res = best_ranked_teams(url_src, 6)\n",
    "\n",
    "try:\n",
    "    print(res.to_string(index=False))\n",
    "    assert res.to_string(index=False) == correct_02_01\n",
    "    print(f'Result was OK')\n",
    "except AssertionError as err_msg:\n",
    "    print(err_msg)"
   ]
  },
  {
   "cell_type": "markdown",
   "id": "26fbb822",
   "metadata": {},
   "source": [
    "## Combining data from multiple files\n",
    "\n",
    "The primary goal of this assignment is to implement the `last_lines()` function.\n",
    "This function combines data from multiple CSV files into a single `DataFrame`.\n",
    "\n",
    "In the assignment, read the contents of the CSV files into a single `DataFrame` variable\n",
    "* Read the contents of the CSV files specified in the test program variables `url_src_1` and `url_src_2`.\n",
    "* Read all columns from the given files.\n",
    "* After reading, select only the last three lines from each file (as defined in the test program variable `n_last`).\n",
    "* Combine the results from both files into one `DataFrame`.\n",
    "* Return the resulting `DataFrame` in `result` variable."
   ]
  },
  {
   "cell_type": "code",
   "execution_count": 3,
   "id": "6caf263d",
   "metadata": {
    "ExecuteTime": {
     "end_time": "2025-02-05T17:33:36.803766Z",
     "start_time": "2025-02-05T17:33:36.792611Z"
    },
    "lines_to_next_cell": 0
   },
   "outputs": [
    {
     "name": "stdout",
     "output_type": "stream",
     "text": [
      " Pos                    Name  MP  W  D  L  GF  GA\n",
      "  18               Fulham FC  38  5 13 20  27  53\n",
      "  19 West Bromwich Albion FC  38  5 11 22  35  76\n",
      "  20     Sheffield United FC  38  7  2 29  20  63\n",
      "  18              Burnley FC  38  7 14 17  34  53\n",
      "  19              Watford FC  38  6  5 27  34  77\n",
      "  20         Norwich City FC  38  5  7 26  23  84\n",
      "Result was OK\n"
     ]
    }
   ],
   "source": [
    "import numpy as np\n",
    "import pandas as pd\n",
    "\n",
    "correct_02_02 = \"\"\" Pos                    Name  MP  W  D  L  GF  GA\n",
    "  18               Fulham FC  38  5 13 20  27  53\n",
    "  19 West Bromwich Albion FC  38  5 11 22  35  76\n",
    "  20     Sheffield United FC  38  7  2 29  20  63\n",
    "  18              Burnley FC  38  7 14 17  34  53\n",
    "  19              Watford FC  38  6  5 27  34  77\n",
    "  20         Norwich City FC  38  5  7 26  23  84\"\"\"\n",
    "\n",
    "\n",
    "def last_lines(url1, url2, n_last):\n",
    "    df1 = pd.read_csv(url_src_1, sep=';', skipinitialspace=True)\n",
    "    df2 = pd.read_csv(url_src_2, sep=';', skipinitialspace=True)\n",
    "    \n",
    "    df1_last = df1.tail(n_last)\n",
    "    df2_last = df2.tail(n_last)\n",
    "    \n",
    "    result = pd.concat([df1_last, df2_last])\n",
    "    \n",
    "    return result\n",
    "\n",
    "# The Test Program includes automatic checking of the answer.\n",
    "url_src_1 = r\"C:\\Users\\jmhel\\OneDrive\\Työpöytä\\JAMK\\DA & Visualization\\premier_league_2020_21_table.csv\"\n",
    "url_src_2 = r\"C:\\Users\\jmhel\\OneDrive\\Työpöytä\\JAMK\\DA & Visualization\\premier_league_2021_22_table.csv\"\n",
    "\n",
    "res = last_lines(url_src_1, url_src_2, 3)\n",
    "\n",
    "try:\n",
    "    print(res.to_string(index=False))\n",
    "    assert res.to_string(index=False) == correct_02_02\n",
    "    print(f'Result was OK')\n",
    "except AssertionError as err_msg:\n",
    "    print(err_msg)"
   ]
  },
  {
   "cell_type": "markdown",
   "id": "c052214d",
   "metadata": {},
   "source": [
    "## Combining, calculating, and summarizing data from multiple sources\n",
    "\n",
    "The primary goal of this assignment is to implement the `maraton_table()` function.\n",
    "This function combines data from multiple CSV files into a single `DataFrame` and performs calculations on the data.\n",
    "The assignment involves joining data from different files, performing calculations, and aggregate data based on specific criteria.\n",
    "\n",
    "* Read the contents of the CSV files specified in the test program variables `url_src_1` and `url_src_2`.\n",
    "* Read all columns from given files to a `DataFrame`.\n",
    "* Combine the results from both files into one `DataFrame`.\n",
    "* Calculate and add a new column `Pts` to the `DataFrame`. This column is calculated as follows: **wins * 3 + draws**. (_W + 3*D_)\n",
    "* Calculate and add a new column `GD` to the `DataFrame`. This column is calculated as follows: **goals scored - goals conceded**. (_GF - GA_)\n",
    "* Group the DataFrame based on the `Name` column.\n",
    "* Calculate the sum of the grouped data.\n",
    "* Sort the results in descending order based on the `Pts` column.\n",
    "* Only columns `'GD', 'Pts'` are returned from the results.\n",
    "* Only the six first lines are returned from the `maraton_table()` function in `result` variable.\n"
   ]
  },
  {
   "cell_type": "code",
   "execution_count": 4,
   "id": "b2ba921d",
   "metadata": {
    "ExecuteTime": {
     "end_time": "2025-02-05T17:33:36.870868Z",
     "start_time": "2025-02-05T17:33:36.855218Z"
    },
    "lines_to_next_cell": 0
   },
   "outputs": [
    {
     "name": "stdout",
     "output_type": "stream",
     "text": [
      "                       GD  Pts\n",
      "Name                          \n",
      "Manchester City FC    124  179\n",
      "Liverpool FC           94  161\n",
      "Chelsea FC             65  141\n",
      "Tottenham Hotspur FC   52  133\n",
      "Manchester United FC   29  132\n",
      "Arsenal FC             29  130\n",
      "Result was OK\n"
     ]
    }
   ],
   "source": [
    "import numpy as np\n",
    "import pandas as pd\n",
    "\n",
    "correct_02_03 = pd.DataFrame({'GD': {'Manchester City FC': 124, 'Liverpool FC': 94, 'Chelsea FC': 65,\n",
    "                                     'Tottenham Hotspur FC': 52, 'Manchester United FC': 29, 'Arsenal FC': 29},\n",
    "                              'Pts': {'Manchester City FC': 179, 'Liverpool FC': 161, 'Chelsea FC': 141,\n",
    "                                      'Tottenham Hotspur FC': 133, 'Manchester United FC': 132, 'Arsenal FC': 130}},\n",
    "                             )\n",
    "correct_02_03.index.name = \"Name\"\n",
    "\n",
    "\n",
    "def maraton_table(url1, url2, n_first):\n",
    "   \n",
    "    df1 = pd.read_csv(url_src_1, sep = ';')\n",
    "    df2 = pd.read_csv(url_src_2, sep = ';')\n",
    "\n",
    "    df = pd.concat([df1, df2], ignore_index=True)\n",
    "\n",
    "    df['Pts'] = df['W'] * 3 + df['D']\n",
    "    df['GD'] = df['GF'] - df['GA']\n",
    "\n",
    "    df_grouped = df.groupby('Name', as_index=True)[['GD', 'Pts']].sum()\n",
    "    df_sorted = df_grouped.sort_values(by='Pts', ascending=False)\n",
    "    \n",
    "    result = df_sorted.head(n_first)\n",
    "\n",
    "    return result\n",
    "\n",
    "\n",
    "# The Test Program includes automatic checking of the answer.\n",
    "url_src_1 = r\"C:\\Users\\jmhel\\OneDrive\\Työpöytä\\JAMK\\DA & Visualization\\premier_league_2020_21_table.csv\"\n",
    "url_src_2 = r\"C:\\Users\\jmhel\\OneDrive\\Työpöytä\\JAMK\\DA & Visualization\\premier_league_2021_22_table.csv\"\n",
    "\n",
    "res = maraton_table(url_src_1, url_src_2, 6)\n",
    "\n",
    "try:\n",
    "    print(res.to_string())\n",
    "    pd.testing.assert_frame_equal(res, correct_02_03, check_dtype=False)\n",
    "    print(f'Result was OK')\n",
    "except AssertionError as err_msg:\n",
    "    print(err_msg)"
   ]
  },
  {
   "cell_type": "markdown",
   "id": "83bf001e",
   "metadata": {},
   "source": [
    "## Filter Data Rows Based on Datetime\n",
    "\n",
    "The primary goal of this assignment is to implement the `filter_teams()` function.\n",
    "This function reads data from a **JSON file**, converts a specified column to a `datetime` type, and filters rows based on a specified _time interval_.\n",
    "The assignment involves reading, manipulating, and filtering data based on `datetime` information.\n",
    "\n",
    "* Read the contents of the JSON file specified in the `url` variable.\n",
    "* Read all columns from given files to a `DataFrame`.\n",
    "* Set the column `DateUtc` to the `datetime` type.\n",
    "* Define a time interval based on the given `start_date` and `end_date`.\n",
    "* Extract and return the following columns from the matches in the original order: `'DateUtc', 'HomeTeam', 'AwayTeam', 'HomeTeamScore', 'AwayTeamScore'`.\n",
    "* Return the resulting `DataFrame` in `result` variable."
   ]
  },
  {
   "cell_type": "code",
   "execution_count": 5,
   "id": "99b691dd",
   "metadata": {
    "ExecuteTime": {
     "end_time": "2025-02-05T17:33:36.902206Z",
     "start_time": "2025-02-05T17:33:36.872878Z"
    },
    "lines_to_next_cell": 0
   },
   "outputs": [
    {
     "name": "stdout",
     "output_type": "stream",
     "text": [
      "{'DateUtc': {299: Timestamp('2022-04-02 14:00:00+0000', tz='UTC'), 300: Timestamp('2022-04-02 14:00:00+0000', tz='UTC'), 301: Timestamp('2022-04-02 14:00:00+0000', tz='UTC'), 302: Timestamp('2022-04-02 14:00:00+0000', tz='UTC'), 303: Timestamp('2022-04-02 14:00:00+0000', tz='UTC'), 304: Timestamp('2022-04-02 16:30:00+0000', tz='UTC'), 305: Timestamp('2022-04-03 13:00:00+0000', tz='UTC')}, 'HomeTeam': {299: 'Brighton', 300: 'Burnley', 301: 'Chelsea', 302: 'Leeds', 303: 'Wolves', 304: 'Man Utd', 305: 'West Ham'}, 'AwayTeam': {299: 'Norwich', 300: 'Man City', 301: 'Brentford', 302: 'Southampton', 303: 'Aston Villa', 304: 'Leicester', 305: 'Everton'}, 'HomeTeamScore': {299: 0, 300: 0, 301: 1, 302: 1, 303: 2, 304: 1, 305: 2}, 'AwayTeamScore': {299: 0, 300: 2, 301: 4, 302: 1, 303: 1, 304: 1, 305: 1}}\n",
      "                      DateUtc  HomeTeam     AwayTeam  HomeTeamScore  AwayTeamScore\n",
      "299 2022-04-02 14:00:00+00:00  Brighton      Norwich              0              0\n",
      "300 2022-04-02 14:00:00+00:00   Burnley     Man City              0              2\n",
      "301 2022-04-02 14:00:00+00:00   Chelsea    Brentford              1              4\n",
      "302 2022-04-02 14:00:00+00:00     Leeds  Southampton              1              1\n",
      "303 2022-04-02 14:00:00+00:00    Wolves  Aston Villa              2              1\n",
      "304 2022-04-02 16:30:00+00:00   Man Utd    Leicester              1              1\n",
      "305 2022-04-03 13:00:00+00:00  West Ham      Everton              2              1\n",
      "Result was OK\n"
     ]
    }
   ],
   "source": [
    "import numpy as np\n",
    "import pandas as pd\n",
    "from pandas import Timestamp\n",
    "\n",
    "correct_02_04 = pd.DataFrame({'DateUtc': {299: Timestamp('2022-04-02 14:00:00+0000', tz='UTC'),\n",
    "                                          300: Timestamp('2022-04-02 14:00:00+0000', tz='UTC'),\n",
    "                                          301: Timestamp('2022-04-02 14:00:00+0000', tz='UTC'),\n",
    "                                          302: Timestamp('2022-04-02 14:00:00+0000', tz='UTC'),\n",
    "                                          303: Timestamp('2022-04-02 14:00:00+0000', tz='UTC'),\n",
    "                                          304: Timestamp('2022-04-02 16:30:00+0000', tz='UTC'),\n",
    "                                          305: Timestamp('2022-04-03 13:00:00+0000', tz='UTC')},\n",
    "                              'HomeTeam': {299: 'Brighton', 300: 'Burnley', 301: 'Chelsea', 302: 'Leeds', 303: 'Wolves',\n",
    "                                           304: 'Man Utd', 305: 'West Ham'},\n",
    "                              'AwayTeam': {299: 'Norwich', 300: 'Man City', 301: 'Brentford', 302: 'Southampton',\n",
    "                                           303: 'Aston Villa', 304: 'Leicester', 305: 'Everton'},\n",
    "                              'HomeTeamScore': {299: 0, 300: 0, 301: 1, 302: 1, 303: 2, 304: 1, 305: 2},\n",
    "                              'AwayTeamScore': {299: 0, 300: 2, 301: 4, 302: 1, 303: 1, 304: 1, 305: 1}})\n",
    "\n",
    "\n",
    "def filter_teams(url, start_date, end_date):\n",
    "    df = pd.read_json(url)\n",
    "    df['DateUtc'] = pd.to_datetime(df['DateUtc'], utc=True)\n",
    "    \n",
    "    mask = (df['DateUtc'] >= start_date) & (df['DateUtc'] <= end_date)\n",
    "    df_filtered = df.loc[mask]\n",
    "    \n",
    "    result = df_filtered[['DateUtc', 'HomeTeam', 'AwayTeam', 'HomeTeamScore', 'AwayTeamScore']]\n",
    "    \n",
    "    return result\n",
    "\n",
    "\n",
    "# The Test Program includes automatic checking of the answer.\n",
    "url_src = r\"C:\\Users\\jmhel\\OneDrive\\Työpöytä\\JAMK\\DA & Visualization\\premier_league_2021_2022.json\"\n",
    "start_datetime = '2022-04-02 14:00:00'\n",
    "end_datetime = '2022-04-03 13:00:00'\n",
    "\n",
    "res = filter_teams(url_src, start_datetime, end_datetime)\n",
    "print(res.to_dict())\n",
    "\n",
    "try:\n",
    "    print(res.to_string())\n",
    "    pd.testing.assert_frame_equal(res, correct_02_04, check_dtype=False)\n",
    "    print(f'Result was OK')\n",
    "except AssertionError as err_msg:\n",
    "    print(err_msg)"
   ]
  },
  {
   "cell_type": "markdown",
   "id": "e132e517",
   "metadata": {},
   "source": [
    "## Filtering by datetime and grouping\n",
    "\n",
    "The primary goal of this assignment is to implement the `calc_scores()` function.\n",
    "This function reads data from a JSON file, converts a specified column to a datetime type, and then filters and group data based on specified conditions.\n",
    "It involves reading, manipulating, filtering, and grouping data based on datetime information.\n",
    "\n",
    "Search the games of three teams (_Liverpool_, _Everton_ and _Norwich_) from 1st March 2022 onwards and calculate their total goals of all games, both home and away games.\n",
    "\n",
    "* Read the contents of the JSON file specified in the url variable.\n",
    "* Set the column DateUtc to the datetime type.\n",
    "* Define a time interval based on the given `start_date` and `end_date`.\n",
    "* Search for the games of the specified teams: _Liverpool, Everton and Norwich_.\n",
    "* Separately calculate the sums of goals for home and away matches played by teams (`'HomeTeam'` or `'AwayTeam'`) in the given time interval using grouping.\n",
    "* Variable `result` should contain a `list` including two `DataFrame` objects: `[home_games[['HomeTeamScore', 'AwayTeamScore']], away_games[['HomeTeamScore', 'AwayTeamScore']]]`\n",
    "* Read the JSON file found in the filename defined in the test program variable `url_src`."
   ]
  },
  {
   "cell_type": "code",
   "execution_count": 6,
   "id": "28269afb",
   "metadata": {
    "ExecuteTime": {
     "end_time": "2025-02-05T17:33:36.976772Z",
     "start_time": "2025-02-05T17:33:36.947774Z"
    }
   },
   "outputs": [
    {
     "name": "stdout",
     "output_type": "stream",
     "text": [
      "           HomeTeamScore  AwayTeamScore\n",
      "HomeTeam                               \n",
      "Everton                9              7\n",
      "Liverpool             13              2\n",
      "Norwich                4             18\n",
      "           HomeTeamScore  AwayTeamScore\n",
      "AwayTeam                               \n",
      "Everton               18              6\n",
      "Liverpool              4             11\n",
      "Norwich               11              4\n",
      "Result was OK\n"
     ]
    }
   ],
   "source": [
    "import numpy as np\n",
    "import pandas as pd\n",
    "\n",
    "correct_02_05 = [\n",
    "    \"\"\"           HomeTeamScore  AwayTeamScore\n",
    "HomeTeam                               \n",
    "Everton                9              7\n",
    "Liverpool             13              2\n",
    "Norwich                4             18\"\"\",\n",
    "    \"\"\"           HomeTeamScore  AwayTeamScore\n",
    "AwayTeam                               \n",
    "Everton               18              6\n",
    "Liverpool              4             11\n",
    "Norwich               11              4\"\"\"\n",
    "]\n",
    "\n",
    "\n",
    "def calc_scores(url, teams, start_date, end_date):\n",
    "    df = pd.read_json(url)\n",
    "\n",
    "    df['DateUtc'] = pd.to_datetime(df['DateUtc'], utc=True)\n",
    "    df_filtered = df[(df['DateUtc'] >= start_date) & (df['DateUtc'] <= end_date)]\n",
    "    df_teams = df_filtered[df_filtered['HomeTeam'].isin(teams) | df_filtered['AwayTeam'].isin(teams)]\n",
    "    \n",
    "    home_games = df_teams[df_teams['HomeTeam'].isin(teams)].groupby('HomeTeam')[['HomeTeamScore', 'AwayTeamScore']].sum()\n",
    "    away_games = df_teams[df_teams['AwayTeam'].isin(teams)].groupby('AwayTeam')[['HomeTeamScore', 'AwayTeamScore']].sum()\n",
    "    \n",
    "    return [home_games, away_games]\n",
    "\n",
    "# The Test Program includes automatic checking of the answer.\n",
    "url_src = r\"C:\\Users\\jmhel\\OneDrive\\Työpöytä\\JAMK\\DA & Visualization\\premier_league_2021_2022.json\"\n",
    "\n",
    "start_date = '2022-03-01'\n",
    "end_date = '2022-06-01'\n",
    "res = calc_scores(url_src, ['Liverpool', 'Everton', 'Norwich'], start_date, end_date)\n",
    "\n",
    "try:\n",
    "    print(res[0].to_string())\n",
    "    print(res[1].to_string())\n",
    "    assert res[0].to_string() == correct_02_05[0]\n",
    "    assert res[1].to_string() == correct_02_05[1]\n",
    "    print(f'Result was OK')\n",
    "except AssertionError as err_msg:\n",
    "    print(err_msg)"
   ]
  }
 ],
 "metadata": {
  "jupytext": {
   "cell_metadata_filter": "-all",
   "main_language": "python",
   "notebook_metadata_filter": "-all"
  },
  "kernelspec": {
   "display_name": "Python 3 (ipykernel)",
   "language": "python",
   "name": "python3"
  },
  "language_info": {
   "codemirror_mode": {
    "name": "ipython",
    "version": 3
   },
   "file_extension": ".py",
   "mimetype": "text/x-python",
   "name": "python",
   "nbconvert_exporter": "python",
   "pygments_lexer": "ipython3",
   "version": "3.13.2"
  }
 },
 "nbformat": 4,
 "nbformat_minor": 5
}
